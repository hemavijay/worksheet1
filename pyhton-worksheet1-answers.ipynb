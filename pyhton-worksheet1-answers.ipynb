{
 "cells": [
  {
   "cell_type": "code",
   "execution_count": null,
   "id": "85e44b3a",
   "metadata": {},
   "outputs": [],
   "source": [
    "#question1: remainder of a division"
   ]
  },
  {
   "cell_type": "code",
   "execution_count": 2,
   "id": "2ffd39b9",
   "metadata": {},
   "outputs": [
    {
     "name": "stdout",
     "output_type": "stream",
     "text": [
      "2\n"
     ]
    }
   ],
   "source": [
    "x=5\n",
    "x%=3\n",
    "print(x)"
   ]
  },
  {
   "cell_type": "code",
   "execution_count": null,
   "id": "32b0527c",
   "metadata": {},
   "outputs": [],
   "source": [
    "#question2:in python 2/3"
   ]
  },
  {
   "cell_type": "code",
   "execution_count": 3,
   "id": "0798bf92",
   "metadata": {},
   "outputs": [],
   "source": [
    "x=2/3"
   ]
  },
  {
   "cell_type": "code",
   "execution_count": 4,
   "id": "1d766dff",
   "metadata": {},
   "outputs": [
    {
     "name": "stdout",
     "output_type": "stream",
     "text": [
      "0.6666666666666666\n"
     ]
    }
   ],
   "source": [
    "print(x)"
   ]
  },
  {
   "cell_type": "code",
   "execution_count": null,
   "id": "58aa6897",
   "metadata": {},
   "outputs": [],
   "source": [
    "#in python 6<<2 is equal to "
   ]
  },
  {
   "cell_type": "code",
   "execution_count": 5,
   "id": "cf290d8d",
   "metadata": {},
   "outputs": [],
   "source": [
    "x=6<<2"
   ]
  },
  {
   "cell_type": "code",
   "execution_count": 6,
   "id": "d963d935",
   "metadata": {},
   "outputs": [
    {
     "name": "stdout",
     "output_type": "stream",
     "text": [
      "24\n"
     ]
    }
   ],
   "source": [
    "print(x)"
   ]
  },
  {
   "cell_type": "code",
   "execution_count": null,
   "id": "601e8d2e",
   "metadata": {},
   "outputs": [],
   "source": [
    "#in python 6&2 will give which of the following as output?"
   ]
  },
  {
   "cell_type": "code",
   "execution_count": 9,
   "id": "671fda23",
   "metadata": {},
   "outputs": [
    {
     "data": {
      "text/plain": [
       "2"
      ]
     },
     "execution_count": 9,
     "metadata": {},
     "output_type": "execute_result"
    }
   ],
   "source": [
    "a=6\n",
    "b=2\n",
    "a&b"
   ]
  },
  {
   "cell_type": "code",
   "execution_count": 10,
   "id": "76dd5c03",
   "metadata": {},
   "outputs": [],
   "source": [
    "#in python 6/2 will give which of the following as output?"
   ]
  },
  {
   "cell_type": "code",
   "execution_count": 12,
   "id": "c8b0df6b",
   "metadata": {},
   "outputs": [
    {
     "data": {
      "text/plain": [
       "6"
      ]
     },
     "execution_count": 12,
     "metadata": {},
     "output_type": "execute_result"
    }
   ],
   "source": [
    "a=6\n",
    "b=2\n",
    "a|b"
   ]
  },
  {
   "cell_type": "code",
   "execution_count": 17,
   "id": "e82057ff",
   "metadata": {},
   "outputs": [],
   "source": [
    "#what does the finally keyword denotes in python?\n",
    "\n",
    "#ANS: C: the finally block will be executed no matter if the try block raise an error or not"
   ]
  },
  {
   "cell_type": "code",
   "execution_count": 22,
   "id": "62aeaf2f",
   "metadata": {},
   "outputs": [],
   "source": [
    "#what does the raise keyword used for in python?\n",
    "\n",
    "#Ans : raise keyword is used to raise an exception"
   ]
  },
  {
   "cell_type": "code",
   "execution_count": 19,
   "id": "eaf2f473",
   "metadata": {},
   "outputs": [],
   "source": [
    "#which of the following is a common use case of yield keyword in python?\n",
    "#Ans: C: in defining a generator "
   ]
  },
  {
   "cell_type": "code",
   "execution_count": 20,
   "id": "9b2b0b25",
   "metadata": {},
   "outputs": [],
   "source": [
    "#which of the following are the valid variable names?\n",
    "#Ans: _abc, abc2 "
   ]
  },
  {
   "cell_type": "code",
   "execution_count": 21,
   "id": "8b88493d",
   "metadata": {},
   "outputs": [],
   "source": [
    "#which of the following are the keywords in python?\n",
    "# all of the above"
   ]
  },
  {
   "cell_type": "code",
   "execution_count": 1,
   "id": "c9175dec",
   "metadata": {},
   "outputs": [],
   "source": [
    "#write the python program to find the factorial of a number\n",
    "\n"
   ]
  },
  {
   "cell_type": "code",
   "execution_count": 5,
   "id": "78bea407",
   "metadata": {},
   "outputs": [
    {
     "name": "stdout",
     "output_type": "stream",
     "text": [
      "enter the number:7\n",
      "the factorial of 7 is 5040\n"
     ]
    }
   ],
   "source": [
    "#take the imput from the user\n",
    "num=int(input(\"enter the number:\"))\n",
    "\n",
    "factorial =1\n",
    "\n",
    "#check whether the number is negative, positive or zero\n",
    "\n",
    "if num < 0:\n",
    "    print(\"number is negative number\")\n",
    "elif num==0:\n",
    "    print(\"the factorial of 0 is 1\")\n",
    "else:\n",
    "    for i in range(1,num+1):\n",
    "        factorial = factorial*i\n",
    "    print(\"the factorial of\",num,\"is\",factorial)  \n",
    "   "
   ]
  },
  {
   "cell_type": "code",
   "execution_count": 6,
   "id": "4598f072",
   "metadata": {},
   "outputs": [],
   "source": [
    "#write a program to find whether a number is prime or composite"
   ]
  },
  {
   "cell_type": "code",
   "execution_count": 15,
   "id": "da80fee4",
   "metadata": {},
   "outputs": [
    {
     "name": "stdout",
     "output_type": "stream",
     "text": [
      "enter the number:9\n",
      "9 is not a prime number\n"
     ]
    }
   ],
   "source": [
    "#take the input from user\n",
    "num=int(input(\"enter the number:\"))\n",
    "\n",
    "#set the flag\n",
    "flag= False\n",
    "\n",
    "if num > 1:\n",
    "    for i in range(2,num):\n",
    "        if(num % i)==0:\n",
    "            flag= True\n",
    "            break\n",
    "if flag:\n",
    "    print(num, 'is not a prime number')\n",
    "    \n",
    "else:\n",
    "    print(num,'is a prime number') \n",
    " \n",
    "    \n",
    "    "
   ]
  },
  {
   "cell_type": "code",
   "execution_count": 16,
   "id": "c0ba2b75",
   "metadata": {},
   "outputs": [],
   "source": [
    "#write a program to check whether a given string is palindrome or not"
   ]
  },
  {
   "cell_type": "code",
   "execution_count": 17,
   "id": "d4bef297",
   "metadata": {},
   "outputs": [],
   "source": [
    "#input the string"
   ]
  },
  {
   "cell_type": "code",
   "execution_count": 20,
   "id": "17c55ccb",
   "metadata": {},
   "outputs": [
    {
     "name": "stdout",
     "output_type": "stream",
     "text": [
      "enter the string: amma\n",
      "the string is palindrome\n"
     ]
    }
   ],
   "source": [
    "s=str(input('enter the string: '))\n",
    "\n",
    "def isPalindrome(s):\n",
    "    return  s ==s[::-1]\n",
    "\n",
    "ans=isPalindrome(s)\n",
    "\n",
    "if ans:\n",
    "    print('the string is palindrome')\n",
    "else:\n",
    "    print('the string is not palindrome')  \n",
    "   "
   ]
  },
  {
   "cell_type": "code",
   "execution_count": 21,
   "id": "f80fbfa9",
   "metadata": {},
   "outputs": [],
   "source": [
    "#write a python program to get the thrid side right angled triangle from two given sides"
   ]
  },
  {
   "cell_type": "code",
   "execution_count": null,
   "id": "ba3d6f15",
   "metadata": {},
   "outputs": [],
   "source": [
    "#input the 2 angles of the traingle\n",
    "\n",
    "print(\"enter the two angles of the triangle\")\n",
    "\n",
    "p,q,r = int(input()), int(input()), None\n",
    "\n",
    " \n",
    "r = 180 - (p + q)\n",
    "\n",
    "print(\"the value of r:\", r)"
   ]
  },
  {
   "cell_type": "code",
   "execution_count": null,
   "id": "ad8144dc",
   "metadata": {},
   "outputs": [],
   "source": [
    "50\n",
    "\n",
    "70"
   ]
  },
  {
   "cell_type": "code",
   "execution_count": null,
   "id": "a6dd3572",
   "metadata": {},
   "outputs": [],
   "source": [
    "#write a python program to print the frequency of each of the characters present in a given string"
   ]
  },
  {
   "cell_type": "code",
   "execution_count": null,
   "id": "0e328cf8",
   "metadata": {},
   "outputs": [],
   "source": [
    "test_str =\"GeeksforGeeks\"\n",
    "\n",
    "all_freq = {}\n",
    " \n",
    "for i in test_str:\n",
    "    if i in all_freq:\n",
    "        all_freq[i] += 1\n",
    "    else:\n",
    "        all_freq[i] = 1\n",
    "        \n",
    "print(\"count of all characters in the given string is :\\n\" + str(all_freq))"
   ]
  },
  {
   "cell_type": "code",
   "execution_count": null,
   "id": "7597b33b",
   "metadata": {},
   "outputs": [],
   "source": []
  }
 ],
 "metadata": {
  "kernelspec": {
   "display_name": "Python 3",
   "language": "python",
   "name": "python3"
  },
  "language_info": {
   "codemirror_mode": {
    "name": "ipython",
    "version": 3
   },
   "file_extension": ".py",
   "mimetype": "text/x-python",
   "name": "python",
   "nbconvert_exporter": "python",
   "pygments_lexer": "ipython3",
   "version": "3.8.8"
  }
 },
 "nbformat": 4,
 "nbformat_minor": 5
}
